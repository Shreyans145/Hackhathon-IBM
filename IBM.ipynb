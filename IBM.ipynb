{
  "nbformat": 4,
  "nbformat_minor": 0,
  "metadata": {
    "colab": {
      "name": "IBM.ipynb",
      "provenance": [],
      "collapsed_sections": []
    },
    "kernelspec": {
      "name": "python3",
      "display_name": "Python 3"
    }
  },
  "cells": [
    {
      "cell_type": "code",
      "metadata": {
        "id": "ahmmFBr5BYa5",
        "colab_type": "code",
        "colab": {}
      },
      "source": [
        "!pip install -U -q PyDrive"
      ],
      "execution_count": null,
      "outputs": []
    },
    {
      "cell_type": "code",
      "metadata": {
        "id": "hT8lsBr2BDNU",
        "colab_type": "code",
        "colab": {}
      },
      "source": [
        "from pydrive.auth import GoogleAuth\n",
        "from pydrive.drive import GoogleDrive\n",
        "from google.colab import auth\n",
        "from oauth2client.client import GoogleCredentials"
      ],
      "execution_count": null,
      "outputs": []
    },
    {
      "cell_type": "code",
      "metadata": {
        "id": "Bt2C4D1jGYke",
        "colab_type": "code",
        "colab": {}
      },
      "source": [
        "auth.authenticate_user()\n",
        "gauth = GoogleAuth()\n",
        "gauth.credentials = GoogleCredentials.get_application_default()\n",
        "drive = GoogleDrive(gauth)"
      ],
      "execution_count": null,
      "outputs": []
    },
    {
      "cell_type": "code",
      "metadata": {
        "id": "dh436f1iGfdH",
        "colab_type": "code",
        "colab": {}
      },
      "source": [
        "link='https://drive.google.com/file/d/14s44-xik0NjVtc2R8Gxj6jdI-JE64ysV/view?usp=sharing'"
      ],
      "execution_count": null,
      "outputs": []
    },
    {
      "cell_type": "code",
      "metadata": {
        "id": "9soyc-5pHOeL",
        "colab_type": "code",
        "colab": {
          "base_uri": "https://localhost:8080/",
          "height": 35
        },
        "outputId": "ad0ca89d-bbba-4e71-8d88-e193065e4019"
      },
      "source": [
        "fluff, id = link.split('=')\n",
        "id = '14s44-xik0NjVtc2R8Gxj6jdI-JE64ysV'\n",
        "print (id) # Verify that you have everything after '='"
      ],
      "execution_count": null,
      "outputs": [
        {
          "output_type": "stream",
          "text": [
            "14s44-xik0NjVtc2R8Gxj6jdI-JE64ysV\n"
          ],
          "name": "stdout"
        }
      ]
    },
    {
      "cell_type": "code",
      "metadata": {
        "id": "wNz9S19IHSa4",
        "colab_type": "code",
        "colab": {}
      },
      "source": [
        "import pandas as pd\n",
        "downloaded = drive.CreateFile({'id':id}) \n",
        "downloaded.GetContentFile('corona_tweets_01.csv')  \n",
        "dataframe=pd.read_csv(\"corona_tweets_01.csv\", header=None)"
      ],
      "execution_count": null,
      "outputs": []
    },
    {
      "cell_type": "code",
      "metadata": {
        "id": "otLQdXJs83CZ",
        "colab_type": "code",
        "colab": {}
      },
      "source": [
        "dataframe=pd.DataFrame(dataframe[0])"
      ],
      "execution_count": null,
      "outputs": []
    },
    {
      "cell_type": "code",
      "metadata": {
        "id": "ziFKL-b2HYYh",
        "colab_type": "code",
        "colab": {}
      },
      "source": [
        "dataframe.to_csv(\"ready_corona_tweets_01.txt\", index=False, header=None)\n",
        "dataframe"
      ],
      "execution_count": null,
      "outputs": []
    },
    {
      "cell_type": "code",
      "metadata": {
        "id": "WA8Ng_lN-Gbd",
        "colab_type": "code",
        "colab": {}
      },
      "source": [
        "pip install twarc"
      ],
      "execution_count": null,
      "outputs": []
    },
    {
      "cell_type": "code",
      "metadata": {
        "id": "TGFoWrSpGXFZ",
        "colab_type": "code",
        "colab": {}
      },
      "source": [
        "accesstoken='1427751738-lXHLG1ocIx0K83p5OKuqfmfnbtugZn4n1S1GzA7'\n",
        "accesstokenkey='EcTbXH6bYC2nJEyZGXEakfJiPcFixdS2i4txSYx2cXE0f'\n",
        "apikey='6iaCc1iamER8NdvOCApHMN7Io'\n",
        "apisecretkey='qKZ7jnoHFYzhZdgxku1dWAAgTQfUhvMOK40x4L0yy98BRPwYow'"
      ],
      "execution_count": null,
      "outputs": []
    },
    {
      "cell_type": "code",
      "metadata": {
        "id": "rO8RHAVN-ETO",
        "colab_type": "code",
        "colab": {}
      },
      "source": [
        "from twarc import Twarc"
      ],
      "execution_count": null,
      "outputs": []
    },
    {
      "cell_type": "code",
      "metadata": {
        "id": "rg_NGvWSHi9I",
        "colab_type": "code",
        "colab": {}
      },
      "source": [
        "t = Twarc(apikey, apisecretkey, accesstoken, accesstokenkey)"
      ],
      "execution_count": null,
      "outputs": []
    },
    {
      "cell_type": "code",
      "metadata": {
        "id": "rojbbqSWGSrC",
        "colab_type": "code",
        "colab": {}
      },
      "source": [
        "list_tweets=[]\n",
        "for x,tweet in enumerate(t.hydrate(open('ready_corona_tweets_01.txt'))):\n",
        "  if(x==100):\n",
        "    break;\n",
        "  list_tweets.append(tweet['full_text'])"
      ],
      "execution_count": null,
      "outputs": []
    },
    {
      "cell_type": "code",
      "metadata": {
        "id": "B0OaPTsc-_2y",
        "colab_type": "code",
        "colab": {}
      },
      "source": [
        "list_tweets"
      ],
      "execution_count": null,
      "outputs": []
    },
    {
      "cell_type": "code",
      "metadata": {
        "id": "n7sBuFEy_LLD",
        "colab_type": "code",
        "colab": {}
      },
      "source": [
        "# Create a function to clean the tweets\n",
        "import re\n",
        "\n",
        "def deEmojify(text):\n",
        "    regrex_pattern = re.compile(pattern = \"[\"\n",
        "        u\"\\U0001F600-\\U0001F64F\"  # emoticons\n",
        "        u\"\\U0001F300-\\U0001F5FF\"  # symbols & pictographs\n",
        "        u\"\\U0001F680-\\U0001F6FF\"  # transport & map symbols\n",
        "        u\"\\U0001F1E0-\\U0001F1FF\"  # flags (iOS)\n",
        "                           \"]+\", flags = re.UNICODE)\n",
        "    text.encode('ascii', 'ignore').decode('ascii')\n",
        "    return regrex_pattern.sub(r'',text)\n",
        "\n",
        "def cleanTxt(text):\n",
        " text = re.sub('@[A-Za-z0–9]+', '', text) #Removing @mentions\n",
        " text = re.sub('#', '', text) # Removing '#' hash tag\n",
        " text = re.sub('RT[\\s]+', '', text) # Removing RT\n",
        " text = re.sub('https?:\\/\\/\\S+', '', text) # Removing hyperlink\n",
        " text = re.sub('\\n', '', text) #REmoving Marks\n",
        " text = re.sub(':', '', text) #REmoving Marks\n",
        " text = re.sub('_', '', text) #REmoving Marks\n",
        " \n",
        " text=deEmojify(text)\n",
        " return text\n",
        "\n",
        "\n",
        "\n",
        "list_tweets=list(map(cleanTxt,list_tweets))"
      ],
      "execution_count": null,
      "outputs": []
    },
    {
      "cell_type": "code",
      "metadata": {
        "id": "0_bG5XPDADRs",
        "colab_type": "code",
        "colab": {}
      },
      "source": [
        ""
      ],
      "execution_count": null,
      "outputs": []
    },
    {
      "cell_type": "code",
      "metadata": {
        "id": "CdjnEQPqCrFZ",
        "colab_type": "code",
        "colab": {}
      },
      "source": [
        "list_tweets_final=[]\n",
        "for x,tweet in enumerate(t.hydrate(open('ready_corona_tweets_01.txt'))):\n",
        "  list_tweets_final.append(tweet['full_text'])"
      ],
      "execution_count": null,
      "outputs": []
    },
    {
      "cell_type": "code",
      "metadata": {
        "id": "pJ6sFYuHC7nH",
        "colab_type": "code",
        "colab": {}
      },
      "source": [
        "list_tweets_final=list(map(cleanTxt,list_tweets_final))"
      ],
      "execution_count": null,
      "outputs": []
    },
    {
      "cell_type": "code",
      "metadata": {
        "id": "PJgnZHHcIE8K",
        "colab_type": "code",
        "colab": {}
      },
      "source": [
        "data_tweets=pd.DataFrame(list_tweets_final,columns=[\"Tweets\"])"
      ],
      "execution_count": null,
      "outputs": []
    },
    {
      "cell_type": "code",
      "metadata": {
        "id": "TEawH-R7H4pv",
        "colab_type": "code",
        "colab": {
          "base_uri": "https://localhost:8080/",
          "height": 202
        },
        "outputId": "9242c76c-8142-468c-bc0b-77802448a04f"
      },
      "source": [
        "data_tweets.head()"
      ],
      "execution_count": null,
      "outputs": [
        {
          "output_type": "execute_result",
          "data": {
            "text/html": [
              "<div>\n",
              "<style scoped>\n",
              "    .dataframe tbody tr th:only-of-type {\n",
              "        vertical-align: middle;\n",
              "    }\n",
              "\n",
              "    .dataframe tbody tr th {\n",
              "        vertical-align: top;\n",
              "    }\n",
              "\n",
              "    .dataframe thead th {\n",
              "        text-align: right;\n",
              "    }\n",
              "</style>\n",
              "<table border=\"1\" class=\"dataframe\">\n",
              "  <thead>\n",
              "    <tr style=\"text-align: right;\">\n",
              "      <th></th>\n",
              "      <th>Tweets</th>\n",
              "    </tr>\n",
              "  </thead>\n",
              "  <tbody>\n",
              "    <tr>\n",
              "      <th>0</th>\n",
              "      <td>Wuhan has been in complete quarantine for over...</td>\n",
              "    </tr>\n",
              "    <tr>\n",
              "      <th>1</th>\n",
              "      <td>here’s a deleted scene from TWD’s special on ...</td>\n",
              "    </tr>\n",
              "    <tr>\n",
              "      <th>2</th>\n",
              "      <td>You can no longer defend this.Make up any exc...</td>\n",
              "    </tr>\n",
              "    <tr>\n",
              "      <th>3</th>\n",
              "      <td>Pretty much any corona virus germ that wants t...</td>\n",
              "    </tr>\n",
              "    <tr>\n",
              "      <th>4</th>\n",
              "      <td>Good.It came from China.</td>\n",
              "    </tr>\n",
              "  </tbody>\n",
              "</table>\n",
              "</div>"
            ],
            "text/plain": [
              "                                              Tweets\n",
              "0  Wuhan has been in complete quarantine for over...\n",
              "1   here’s a deleted scene from TWD’s special on ...\n",
              "2   You can no longer defend this.Make up any exc...\n",
              "3  Pretty much any corona virus germ that wants t...\n",
              "4                           Good.It came from China."
            ]
          },
          "metadata": {
            "tags": []
          },
          "execution_count": 51
        }
      ]
    },
    {
      "cell_type": "code",
      "metadata": {
        "id": "5FseUw8-IMlN",
        "colab_type": "code",
        "colab": {}
      },
      "source": [
        "data_tweets.to_csv(\"data_1\", index=False, header=None)"
      ],
      "execution_count": 52,
      "outputs": []
    },
    {
      "cell_type": "code",
      "metadata": {
        "id": "qSSB_mmkMa-I",
        "colab_type": "code",
        "colab": {}
      },
      "source": [
        ""
      ],
      "execution_count": null,
      "outputs": []
    }
  ]
}